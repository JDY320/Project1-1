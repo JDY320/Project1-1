{
 "cells": [
  {
   "cell_type": "markdown",
   "id": "699902ba-3ceb-483a-8464-86691c222c95",
   "metadata": {},
   "source": [
    "# <u>Project 1 - NFT Collection Monitor \n",
    "\n",
    "    \n",
    "\n",
    "### <u>Cupcake</u> (Days 1 & 2)\n",
    "  \n",
    "- Identify 1 NFT **( Jon )**\n",
    "- Connect API to retrieve data **( Jon )**\n",
    "- Determine relevant data and metrics **( Arjan )**\n",
    "    - description\n",
    "    - \n",
    "- Clean and organize DataFrame **( Arjan )**\n",
    "  \n",
    "  \n",
    "\n",
    "  \n",
    "### <u>Birthday Cake</u> (Days 3 & 4 - with demo)\n",
    "  \n",
    "- Connect API for 1 collection **( Jon )**\n",
    "- Query data **( Arjan )**\n",
    "- Start SQL database **( Arjan )**\n",
    "- Begin building functions/containers of code **( Jon )**\n",
    "  \n",
    "  \n",
    "  \n",
    "### <u>Wedding Cake</u> (Day 5)\n",
    "- One panel dashboard with summary metrics for single NFT collection on OpenSea\n",
    "    - Must Haves: \n",
    "        - Collection Name\n",
    "        - NFT Count\n",
    "        - Floor Price\n",
    "        - Current Market Cap (with visualization)\n",
    "        - Marketplace \n",
    "         \n",
    "        \n",
    "    - Nice to Haves:\n",
    "        - NFT thumbnail\n",
    "        - Interactive panel by asset ID"
   ]
  },
  {
   "cell_type": "code",
   "execution_count": null,
   "id": "4a2f4e6c-1420-49f7-9671-b511e9d0c004",
   "metadata": {},
   "outputs": [],
   "source": []
  }
 ],
 "metadata": {
  "kernelspec": {
   "display_name": "Python 3 (ipykernel)",
   "language": "python",
   "name": "python3"
  },
  "language_info": {
   "codemirror_mode": {
    "name": "ipython",
    "version": 3
   },
   "file_extension": ".py",
   "mimetype": "text/x-python",
   "name": "python",
   "nbconvert_exporter": "python",
   "pygments_lexer": "ipython3",
   "version": "3.8.8"
  }
 },
 "nbformat": 4,
 "nbformat_minor": 5
}
